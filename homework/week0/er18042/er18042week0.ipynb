{
  "nbformat": 4,
  "nbformat_minor": 0,
  "metadata": {
    "colab": {
      "name": "er18042week0.ipynb",
      "provenance": [],
      "authorship_tag": "ABX9TyNYPRPYJDaG2v/7sN6UAcsq",
      "include_colab_link": true
    },
    "kernelspec": {
      "name": "python3",
      "display_name": "Python 3"
    }
  },
  "cells": [
    {
      "cell_type": "markdown",
      "metadata": {
        "id": "view-in-github",
        "colab_type": "text"
      },
      "source": [
        "<a href=\"https://colab.research.google.com/github/Takase-Syunki/test/blob/master/homework/week0/er18042/er18042week0.ipynb\" target=\"_parent\"><img src=\"https://colab.research.google.com/assets/colab-badge.svg\" alt=\"Open In Colab\"/></a>"
      ]
    },
    {
      "cell_type": "code",
      "metadata": {
        "id": "7Do30N2403vI"
      },
      "source": [
        "a=0\n",
        "b=1\n",
        "print(a)\n"
      ],
      "execution_count": null,
      "outputs": []
    }
  ]
}